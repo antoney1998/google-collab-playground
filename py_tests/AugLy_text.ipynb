{
  "nbformat": 4,
  "nbformat_minor": 0,
  "metadata": {
    "colab": {
      "name": "AugLy_text.ipynb",
      "provenance": [],
      "collapsed_sections": []
    },
    "kernelspec": {
      "name": "python3",
      "display_name": "Python 3"
    },
    "language_info": {
      "name": "python"
    }
  },
  "cells": [
    {
      "cell_type": "markdown",
      "metadata": {
        "id": "KEEd92qSXkhA"
      },
      "source": [
        "**The installation of depencdencies in below cell could take 4-5 minutes**"
      ]
    },
    {
      "cell_type": "code",
      "metadata": {
        "id": "ABLd8on9lFwK"
      },
      "source": [
        "# Note: restart runtime after this import before running the augmentations\n",
        "# This takes aprox. 4-5 minutes \n",
        "!pip install -U augly\n",
        "!sudo apt-get install python3-magic"
      ],
      "execution_count": null,
      "outputs": []
    },
    {
      "cell_type": "code",
      "metadata": {
        "id": "LJeIPC67lJet",
        "colab": {
          "base_uri": "https://localhost:8080/",
          "height": 35
        },
        "outputId": "c1adc5de-7815-4bf9-c301-5bc97fcc6539"
      },
      "source": [
        "import augly.text as textaugs\n",
        "\n",
        "# Define input text\n",
        "input_text = \"Hello, world! How are you today?\"\n",
        "input_text"
      ],
      "execution_count": 66,
      "outputs": [
        {
          "output_type": "execute_result",
          "data": {
            "application/vnd.google.colaboratory.intrinsic+json": {
              "type": "string"
            },
            "text/plain": [
              "'Hello, world! How are you today?'"
            ]
          },
          "metadata": {
            "tags": []
          },
          "execution_count": 66
        }
      ]
    },
    {
      "cell_type": "markdown",
      "metadata": {
        "id": "HbZQ8Gu9Wxc_"
      },
      "source": [
        "\n",
        "**For the below cell**\n",
        "\n",
        "Note : For every run the result need not be the same. \n",
        "\n",
        "Here are few differnet outputs returned:\n",
        "\n",
        "\n",
        "\n",
        "*   Helλo, world! How are yớu today?\n",
        "*   HeĻlo, worⓁd! How are you today?\n",
        "*   Hello, world! How are ௶ou toďay?"
      ]
    },
    {
      "cell_type": "code",
      "metadata": {
        "id": "LdGl0JxjlRXR",
        "colab": {
          "base_uri": "https://localhost:8080/"
        },
        "outputId": "74194221-f698-490f-a9c8-c6b2282b83b5"
      },
      "source": [
        "# Now we can apply various augmentations!\n",
        "\n",
        "print(textaugs.replace_similar_unicode_chars(input_text))"
      ],
      "execution_count": 69,
      "outputs": [
        {
          "output_type": "stream",
          "text": [
            "Hello, world! How are ௶ou toďay?\n"
          ],
          "name": "stdout"
        }
      ]
    },
    {
      "cell_type": "code",
      "metadata": {
        "id": "jCrs6gAuJRHs",
        "outputId": "5e7f030c-9819-4cde-f8cf-bc5d102369f3",
        "colab": {
          "base_uri": "https://localhost:8080/"
        }
      },
      "source": [
        "print(textaugs.simulate_typos(\"Text with typos\"))\n"
      ],
      "execution_count": 61,
      "outputs": [
        {
          "output_type": "stream",
          "text": [
            "Text wiht typos\n"
          ],
          "name": "stdout"
        }
      ]
    },
    {
      "cell_type": "code",
      "metadata": {
        "id": "TUjItdA_M09L",
        "outputId": "16fc218a-cafd-4433-dbee-f922e9b6ba8b",
        "colab": {
          "base_uri": "https://localhost:8080/"
        }
      },
      "source": [
        "print(textaugs.replace_similar_unicode_chars(\"Text replaced with similar unicode chars\"))\n"
      ],
      "execution_count": 48,
      "outputs": [
        {
          "output_type": "stream",
          "text": [
            "Text replaced with sϊmilaჩ unicode chars\n"
          ],
          "name": "stdout"
        }
      ]
    },
    {
      "cell_type": "code",
      "metadata": {
        "id": "_30tds6lVwUc",
        "outputId": "5a1b3db2-4104-4fca-8d27-b7e075089db3",
        "colab": {
          "base_uri": "https://localhost:8080/"
        }
      },
      "source": [
        "print(textaugs.replace_similar_chars(\"Text replaced with similar chars\"))\n"
      ],
      "execution_count": 82,
      "outputs": [
        {
          "output_type": "stream",
          "text": [
            "Text replaced with sim!|ar chars\n"
          ],
          "name": "stdout"
        }
      ]
    },
    {
      "cell_type": "markdown",
      "metadata": {
        "id": "14JXNCsWYMp3"
      },
      "source": [
        "#Below code snippet creats upside down text. Try running after replacing the text"
      ]
    },
    {
      "cell_type": "code",
      "metadata": {
        "id": "m3YlxVN-YLDA",
        "outputId": "01dda3bd-98d1-4377-ce50-c1cf7f468964",
        "colab": {
          "base_uri": "https://localhost:8080/"
        }
      },
      "source": [
        "print(textaugs.replace_upside_down(\"Replace this text\"))\n"
      ],
      "execution_count": 71,
      "outputs": [
        {
          "output_type": "stream",
          "text": [
            "ʇxǝʇ sᴉɥʇ ǝɔɐldǝᴚ\n"
          ],
          "name": "stdout"
        }
      ]
    },
    {
      "cell_type": "markdown",
      "metadata": {
        "id": "uQQRo6kwajtf"
      },
      "source": [
        "**Below are few more examples in offical repsoitory**"
      ]
    },
    {
      "cell_type": "code",
      "metadata": {
        "id": "_ab92YUjyM6y",
        "colab": {
          "base_uri": "https://localhost:8080/"
        },
        "outputId": "abe62e9e-3d89-4e58-eb51-57be5e7b9a62"
      },
      "source": [
        "# For all the augmentations, we have class-based definitions as well as\n",
        "# functional\n",
        "meta = []\n",
        "aug = textaugs.ReplaceSimilarUnicodeChars(aug_word_p=0.48)\n",
        "print(aug(\"Text replaced with similar unicode chars\", metadata=meta))\n",
        "#meta"
      ],
      "execution_count": 57,
      "outputs": [
        {
          "output_type": "stream",
          "text": [
            "Text replaced ಭith simĪlaℝ unicode chars\n"
          ],
          "name": "stdout"
        }
      ]
    },
    {
      "cell_type": "code",
      "metadata": {
        "id": "-beLHR16aaeD",
        "outputId": "a4e00115-b734-4361-eb81-d582a8cfd774",
        "colab": {
          "base_uri": "https://localhost:8080/"
        }
      },
      "source": [
        "\n",
        "\"\"\"\n",
        "You can optionally pass in a metadata list, to which metadata about the\n",
        "augmentation will be appended including kwargs and intensity (defined based on\n",
        "the kwargs for each augmentation).\n",
        "\"\"\"\n",
        "meta = []\n",
        "print(\n",
        "    textaugs.replace_fun_fonts(\n",
        "        input_text, vary_fonts=True, granularity=\"word\", metadata=meta\n",
        "    )\n",
        ")\n",
        "meta"
      ],
      "execution_count": 72,
      "outputs": [
        {
          "output_type": "stream",
          "text": [
            "Hello, world! H̶o̶w̶ are you today?̷\n"
          ],
          "name": "stdout"
        },
        {
          "output_type": "execute_result",
          "data": {
            "text/plain": [
              "[{'aug_max': 10000,\n",
              "  'aug_min': 1,\n",
              "  'aug_p': 0.3,\n",
              "  'dst_length': 36,\n",
              "  'fonts_path': '/usr/local/lib/python3.7/dist-packages/augly/assets/text/fun_fonts.json',\n",
              "  'granularity': 'word',\n",
              "  'input_type': 'string',\n",
              "  'intensity': 30.0,\n",
              "  'n': 1,\n",
              "  'name': 'replace_fun_fonts',\n",
              "  'priority_words': None,\n",
              "  'src_length': 1,\n",
              "  'vary_fonts': True}]"
            ]
          },
          "metadata": {
            "tags": []
          },
          "execution_count": 72
        }
      ]
    }
  ]
}